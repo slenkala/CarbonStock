{
 "cells": [
  {
   "cell_type": "code",
   "execution_count": 2,
   "metadata": {},
   "outputs": [],
   "source": [
    "import numpy as np\n",
    "import pandas as pd"
   ]
  },
  {
   "cell_type": "code",
   "execution_count": 3,
   "metadata": {
    "scrolled": true
   },
   "outputs": [
    {
     "data": {
      "text/html": [
       "<div>\n",
       "<style scoped>\n",
       "    .dataframe tbody tr th:only-of-type {\n",
       "        vertical-align: middle;\n",
       "    }\n",
       "\n",
       "    .dataframe tbody tr th {\n",
       "        vertical-align: top;\n",
       "    }\n",
       "\n",
       "    .dataframe thead th {\n",
       "        text-align: right;\n",
       "    }\n",
       "</style>\n",
       "<table border=\"1\" class=\"dataframe\">\n",
       "  <thead>\n",
       "    <tr style=\"text-align: right;\">\n",
       "      <th></th>\n",
       "      <th>Company</th>\n",
       "      <th>Free Cash Flow Firm Q/Q Growth</th>\n",
       "      <th>EBIT Q/Q Growth</th>\n",
       "      <th>Profit (Net Income) Margin</th>\n",
       "      <th>Net Profit</th>\n",
       "      <th>MarketCap</th>\n",
       "    </tr>\n",
       "  </thead>\n",
       "  <tbody>\n",
       "    <tr>\n",
       "      <th>0</th>\n",
       "      <td>AAPL</td>\n",
       "      <td>0.019964</td>\n",
       "      <td>0.022169</td>\n",
       "      <td>0.215499</td>\n",
       "      <td>5.147354e+10</td>\n",
       "      <td>9.804490e+11</td>\n",
       "    </tr>\n",
       "    <tr>\n",
       "      <th>1</th>\n",
       "      <td>MSFT</td>\n",
       "      <td>-0.029103</td>\n",
       "      <td>0.060779</td>\n",
       "      <td>0.115677</td>\n",
       "      <td>1.091300e+10</td>\n",
       "      <td>7.988070e+11</td>\n",
       "    </tr>\n",
       "    <tr>\n",
       "      <th>2</th>\n",
       "      <td>GOOG</td>\n",
       "      <td>-0.235011</td>\n",
       "      <td>0.136947</td>\n",
       "      <td>0.141892</td>\n",
       "      <td>1.430264e+10</td>\n",
       "      <td>8.089440e+11</td>\n",
       "    </tr>\n",
       "    <tr>\n",
       "      <th>3</th>\n",
       "      <td>AMZN</td>\n",
       "      <td>-0.113910</td>\n",
       "      <td>0.250000</td>\n",
       "      <td>0.020384</td>\n",
       "      <td>4.156086e+09</td>\n",
       "      <td>8.444840e+11</td>\n",
       "    </tr>\n",
       "    <tr>\n",
       "      <th>4</th>\n",
       "      <td>CROX</td>\n",
       "      <td>0.171277</td>\n",
       "      <td>0.608614</td>\n",
       "      <td>0.015097</td>\n",
       "      <td>1.474036e+07</td>\n",
       "      <td>1.322275e+09</td>\n",
       "    </tr>\n",
       "  </tbody>\n",
       "</table>\n",
       "</div>"
      ],
      "text/plain": [
       "  Company  Free Cash Flow Firm Q/Q Growth  EBIT Q/Q Growth  \\\n",
       "0    AAPL                        0.019964         0.022169   \n",
       "1    MSFT                       -0.029103         0.060779   \n",
       "2    GOOG                       -0.235011         0.136947   \n",
       "3    AMZN                       -0.113910         0.250000   \n",
       "4    CROX                        0.171277         0.608614   \n",
       "\n",
       "   Profit (Net Income) Margin    Net Profit     MarketCap  \n",
       "0                    0.215499  5.147354e+10  9.804490e+11  \n",
       "1                    0.115677  1.091300e+10  7.988070e+11  \n",
       "2                    0.141892  1.430264e+10  8.089440e+11  \n",
       "3                    0.020384  4.156086e+09  8.444840e+11  \n",
       "4                    0.015097  1.474036e+07  1.322275e+09  "
      ]
     },
     "execution_count": 3,
     "metadata": {},
     "output_type": "execute_result"
    }
   ],
   "source": [
    "# Reading CSV\n",
    "df = pd.read_csv(\"CarbonStock Data.csv\")\n",
    "df = df.iloc[:,0:6]\n",
    "df.head()"
   ]
  },
  {
   "cell_type": "code",
   "execution_count": 6,
   "metadata": {},
   "outputs": [
    {
     "name": "stdout",
     "output_type": "stream",
     "text": [
      "(50, 4)\n"
     ]
    },
    {
     "data": {
      "text/html": [
       "<div>\n",
       "<style scoped>\n",
       "    .dataframe tbody tr th:only-of-type {\n",
       "        vertical-align: middle;\n",
       "    }\n",
       "\n",
       "    .dataframe tbody tr th {\n",
       "        vertical-align: top;\n",
       "    }\n",
       "\n",
       "    .dataframe thead th {\n",
       "        text-align: right;\n",
       "    }\n",
       "</style>\n",
       "<table border=\"1\" class=\"dataframe\">\n",
       "  <thead>\n",
       "    <tr style=\"text-align: right;\">\n",
       "      <th></th>\n",
       "      <th>Free Cash Flow Firm Q/Q Growth</th>\n",
       "      <th>EBIT Q/Q Growth</th>\n",
       "      <th>Profit (Net Income) Margin</th>\n",
       "      <th>Net Profit</th>\n",
       "    </tr>\n",
       "  </thead>\n",
       "  <tbody>\n",
       "    <tr>\n",
       "      <th>0</th>\n",
       "      <td>0.019964</td>\n",
       "      <td>0.022169</td>\n",
       "      <td>0.215499</td>\n",
       "      <td>5.147354e+10</td>\n",
       "    </tr>\n",
       "    <tr>\n",
       "      <th>1</th>\n",
       "      <td>-0.029103</td>\n",
       "      <td>0.060779</td>\n",
       "      <td>0.115677</td>\n",
       "      <td>1.091300e+10</td>\n",
       "    </tr>\n",
       "    <tr>\n",
       "      <th>2</th>\n",
       "      <td>-0.235011</td>\n",
       "      <td>0.136947</td>\n",
       "      <td>0.141892</td>\n",
       "      <td>1.430264e+10</td>\n",
       "    </tr>\n",
       "    <tr>\n",
       "      <th>3</th>\n",
       "      <td>-0.113910</td>\n",
       "      <td>0.250000</td>\n",
       "      <td>0.020384</td>\n",
       "      <td>4.156086e+09</td>\n",
       "    </tr>\n",
       "    <tr>\n",
       "      <th>4</th>\n",
       "      <td>0.171277</td>\n",
       "      <td>0.608614</td>\n",
       "      <td>0.015097</td>\n",
       "      <td>1.474036e+07</td>\n",
       "    </tr>\n",
       "  </tbody>\n",
       "</table>\n",
       "</div>"
      ],
      "text/plain": [
       "   Free Cash Flow Firm Q/Q Growth  EBIT Q/Q Growth  \\\n",
       "0                        0.019964         0.022169   \n",
       "1                       -0.029103         0.060779   \n",
       "2                       -0.235011         0.136947   \n",
       "3                       -0.113910         0.250000   \n",
       "4                        0.171277         0.608614   \n",
       "\n",
       "   Profit (Net Income) Margin    Net Profit  \n",
       "0                    0.215499  5.147354e+10  \n",
       "1                    0.115677  1.091300e+10  \n",
       "2                    0.141892  1.430264e+10  \n",
       "3                    0.020384  4.156086e+09  \n",
       "4                    0.015097  1.474036e+07  "
      ]
     },
     "execution_count": 6,
     "metadata": {},
     "output_type": "execute_result"
    }
   ],
   "source": [
    "# Setting our features\n",
    "feature_cols = [\"Free Cash Flow Firm Q/Q Growth\", \"EBIT Q/Q Growth\", \"Profit (Net Income) Margin\", \"Net Profit\"]\n",
    "X = df[feature_cols]\n",
    "print(X.shape)\n",
    "X.head()"
   ]
  },
  {
   "cell_type": "code",
   "execution_count": 391,
   "metadata": {},
   "outputs": [
    {
     "data": {
      "text/html": [
       "<div>\n",
       "<style scoped>\n",
       "    .dataframe tbody tr th:only-of-type {\n",
       "        vertical-align: middle;\n",
       "    }\n",
       "\n",
       "    .dataframe tbody tr th {\n",
       "        vertical-align: top;\n",
       "    }\n",
       "\n",
       "    .dataframe thead th {\n",
       "        text-align: right;\n",
       "    }\n",
       "</style>\n",
       "<table border=\"1\" class=\"dataframe\">\n",
       "  <thead>\n",
       "    <tr style=\"text-align: right;\">\n",
       "      <th></th>\n",
       "      <th>Free Cash Flow Firm Q/Q Growth</th>\n",
       "      <th>EBIT Q/Q Growth</th>\n",
       "      <th>Profit (Net Income) Margin</th>\n",
       "      <th>Net Profit</th>\n",
       "    </tr>\n",
       "  </thead>\n",
       "  <tbody>\n",
       "    <tr>\n",
       "      <th>0</th>\n",
       "      <td>-0.035302</td>\n",
       "      <td>-0.017511</td>\n",
       "      <td>0.013127</td>\n",
       "      <td>0.818774</td>\n",
       "    </tr>\n",
       "    <tr>\n",
       "      <th>1</th>\n",
       "      <td>-0.038046</td>\n",
       "      <td>-0.014609</td>\n",
       "      <td>-0.021084</td>\n",
       "      <td>0.093141</td>\n",
       "    </tr>\n",
       "    <tr>\n",
       "      <th>2</th>\n",
       "      <td>-0.049557</td>\n",
       "      <td>-0.008885</td>\n",
       "      <td>-0.012100</td>\n",
       "      <td>0.153782</td>\n",
       "    </tr>\n",
       "    <tr>\n",
       "      <th>3</th>\n",
       "      <td>-0.042787</td>\n",
       "      <td>-0.000390</td>\n",
       "      <td>-0.053744</td>\n",
       "      <td>-0.027741</td>\n",
       "    </tr>\n",
       "    <tr>\n",
       "      <th>4</th>\n",
       "      <td>-0.026843</td>\n",
       "      <td>0.026559</td>\n",
       "      <td>-0.055556</td>\n",
       "      <td>-0.101831</td>\n",
       "    </tr>\n",
       "  </tbody>\n",
       "</table>\n",
       "</div>"
      ],
      "text/plain": [
       "   Free Cash Flow Firm Q/Q Growth  EBIT Q/Q Growth  \\\n",
       "0                       -0.035302        -0.017511   \n",
       "1                       -0.038046        -0.014609   \n",
       "2                       -0.049557        -0.008885   \n",
       "3                       -0.042787        -0.000390   \n",
       "4                       -0.026843         0.026559   \n",
       "\n",
       "   Profit (Net Income) Margin  Net Profit  \n",
       "0                    0.013127    0.818774  \n",
       "1                   -0.021084    0.093141  \n",
       "2                   -0.012100    0.153782  \n",
       "3                   -0.053744   -0.027741  \n",
       "4                   -0.055556   -0.101831  "
      ]
     },
     "execution_count": 391,
     "metadata": {},
     "output_type": "execute_result"
    }
   ],
   "source": [
    "# Normalizing X\n",
    "X_N = (X - X.mean()) / (X.max() - X.min())\n",
    "X_N.head()"
   ]
  },
  {
   "cell_type": "code",
   "execution_count": 7,
   "metadata": {},
   "outputs": [
    {
     "name": "stdout",
     "output_type": "stream",
     "text": [
      "(50,)\n"
     ]
    },
    {
     "data": {
      "text/plain": [
       "0    9.804490e+11\n",
       "1    7.988070e+11\n",
       "2    8.089440e+11\n",
       "3    8.444840e+11\n",
       "4    1.322275e+09\n",
       "Name: MarketCap, dtype: float64"
      ]
     },
     "execution_count": 7,
     "metadata": {},
     "output_type": "execute_result"
    }
   ],
   "source": [
    "# Setting our y\n",
    "y = df['MarketCap']\n",
    "print(y.shape)\n",
    "y.head()"
   ]
  },
  {
   "cell_type": "code",
   "execution_count": 8,
   "metadata": {},
   "outputs": [
    {
     "data": {
      "text/plain": [
       "0    0.801813\n",
       "1    0.616515\n",
       "2    0.626856\n",
       "3    0.663111\n",
       "4   -0.197021\n",
       "Name: MarketCap, dtype: float64"
      ]
     },
     "execution_count": 8,
     "metadata": {},
     "output_type": "execute_result"
    }
   ],
   "source": [
    "# Normalizing y\n",
    "y_N = (y - y.mean()) / (y.max() - y.min())\n",
    "y_N.head()"
   ]
  },
  {
   "cell_type": "code",
   "execution_count": 394,
   "metadata": {},
   "outputs": [
    {
     "name": "stdout",
     "output_type": "stream",
     "text": [
      "(37, 4)\n",
      "(37,)\n",
      "(13, 4)\n",
      "(13,)\n"
     ]
    }
   ],
   "source": [
    "# Dividing it into test and train values\n",
    "from sklearn.cross_validation import train_test_split\n",
    "X_train, X_test, y_train, y_test = train_test_split(X_N, y_N, random_state=1)\n",
    "print(X_train.shape)\n",
    "print(y_train.shape)\n",
    "print(X_test.shape)\n",
    "print(y_test.shape)"
   ]
  },
  {
   "cell_type": "code",
   "execution_count": 395,
   "metadata": {},
   "outputs": [
    {
     "data": {
      "text/plain": [
       "LinearRegression(copy_X=True, fit_intercept=True, n_jobs=1, normalize=False)"
      ]
     },
     "execution_count": 395,
     "metadata": {},
     "output_type": "execute_result"
    }
   ],
   "source": [
    "# Training on Lin Reg\n",
    "from sklearn.linear_model import LinearRegression\n",
    "linreg = LinearRegression()\n",
    "linreg.fit(X_train, y_train)"
   ]
  },
  {
   "cell_type": "code",
   "execution_count": 396,
   "metadata": {},
   "outputs": [
    {
     "name": "stdout",
     "output_type": "stream",
     "text": [
      "-0.04233684343609946\n",
      "[ 0.10924712 -0.10758088 -1.0276509   1.04009567]\n"
     ]
    }
   ],
   "source": [
    "# Receiving our weights\n",
    "print(linreg.intercept_)\n",
    "print(linreg.coef_)"
   ]
  },
  {
   "cell_type": "code",
   "execution_count": 397,
   "metadata": {},
   "outputs": [],
   "source": [
    "# Predicting our values\n",
    "y_pred = linreg.predict(X_test)"
   ]
  },
  {
   "cell_type": "code",
   "execution_count": 398,
   "metadata": {},
   "outputs": [
    {
     "name": "stdout",
     "output_type": "stream",
     "text": [
      "0.13653982662197817\n"
     ]
    }
   ],
   "source": [
    "# Calculating error MSE\n",
    "from sklearn import metrics\n",
    "print(metrics.mean_squared_error(y_test, y_pred))"
   ]
  },
  {
   "cell_type": "markdown",
   "metadata": {},
   "source": [
    "## Predicting New Values"
   ]
  },
  {
   "cell_type": "code",
   "execution_count": 381,
   "metadata": {},
   "outputs": [],
   "source": [
    "# New Data Point\n",
    "\n",
    "# AMGN\n",
    "X_test2 = [0.010855, 0.015687, 0.096735, 2299062321]\n",
    "y_test2 = [130436505000]\n",
    "\n",
    "#QCOM\n",
    "X_test2 = [0.063498, -0.154424, -0.201504, -4423174261]\n",
    "y_test2 = [89400960000]"
   ]
  },
  {
   "cell_type": "code",
   "execution_count": 382,
   "metadata": {},
   "outputs": [
    {
     "name": "stdout",
     "output_type": "stream",
     "text": [
      "[[-0.0328684779613428, -0.030781381743897305, -0.1297911589299907, -0.18122553113678086]]\n"
     ]
    }
   ],
   "source": [
    "# Normalizing our features data\n",
    "Xmean = X.mean()\n",
    "Xmax = X.max()\n",
    "Xmin = X.min()\n",
    "\n",
    "X_test2_N = [[ ((X_test2[0] - Xmean[0])/(Xmax[0] - Xmin[0])), \n",
    "               ((X_test2[1] - Xmean[1])/(Xmax[1] - Xmin[1])), \n",
    "               ((X_test2[2] - Xmean[2])/(Xmax[2] - Xmin[2])), \n",
    "               ((X_test2[3] - Xmean[3])/(Xmax[3] - Xmin[3])) ]]\n",
    "\n",
    "print(X_test2_N)"
   ]
  },
  {
   "cell_type": "code",
   "execution_count": 383,
   "metadata": {},
   "outputs": [
    {
     "name": "stdout",
     "output_type": "stream",
     "text": [
      "[-0.007464388121421865]\n"
     ]
    }
   ],
   "source": [
    "# Normalizing our y values\n",
    "y_test2_N = [ ((187138760000 - y.mean())/(y.max() - y.min())) ]\n",
    "print(y_test2_N)"
   ]
  },
  {
   "cell_type": "code",
   "execution_count": 384,
   "metadata": {},
   "outputs": [
    {
     "name": "stdout",
     "output_type": "stream",
     "text": [
      "[-0.09772803]\n"
     ]
    }
   ],
   "source": [
    "y_pred2_N = linreg.predict(X_test2_N)\n",
    "print(y_pred2_N)"
   ]
  },
  {
   "cell_type": "code",
   "execution_count": 385,
   "metadata": {},
   "outputs": [
    {
     "name": "stdout",
     "output_type": "stream",
     "text": [
      "0.09026364265392967\n"
     ]
    }
   ],
   "source": [
    "print(np.sqrt(metrics.mean_squared_error(y_test2_N, y_pred2_N)))"
   ]
  },
  {
   "cell_type": "code",
   "execution_count": 399,
   "metadata": {},
   "outputs": [
    {
     "name": "stdout",
     "output_type": "stream",
     "text": [
      "98656028501.02336\n"
     ]
    }
   ],
   "source": [
    "y_pred2 = (y_pred2_N[0]*(y.max()-y.min()) + y.mean())\n",
    "print(y_pred2)"
   ]
  },
  {
   "cell_type": "code",
   "execution_count": 400,
   "metadata": {},
   "outputs": [
    {
     "name": "stdout",
     "output_type": "stream",
     "text": [
      "True\n"
     ]
    }
   ],
   "source": [
    "print(y_actual > y_test2[0])"
   ]
  }
 ],
 "metadata": {
  "kernelspec": {
   "display_name": "Python 3",
   "language": "python",
   "name": "python3"
  },
  "language_info": {
   "codemirror_mode": {
    "name": "ipython",
    "version": 3
   },
   "file_extension": ".py",
   "mimetype": "text/x-python",
   "name": "python",
   "nbconvert_exporter": "python",
   "pygments_lexer": "ipython3",
   "version": "3.6.4"
  }
 },
 "nbformat": 4,
 "nbformat_minor": 2
}
